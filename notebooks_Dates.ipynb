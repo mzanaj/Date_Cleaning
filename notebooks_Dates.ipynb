{
  "metadata": {
    "kernelspec": {
      "name": "python",
      "display_name": "Python (Pyodide)",
      "language": "python"
    },
    "language_info": {
      "codemirror_mode": {
        "name": "python",
        "version": 3
      },
      "file_extension": ".py",
      "mimetype": "text/x-python",
      "name": "python",
      "nbconvert_exporter": "python",
      "pygments_lexer": "ipython3",
      "version": "3.8"
    }
  },
  "nbformat_minor": 5,
  "nbformat": 4,
  "cells": [
    {
      "cell_type": "code",
      "source": "import pandas as pd \nimport datetime\n\n#Read Dataset (converted to csv,only Date column present)\ndataset = pd.read_csv(\"./ACSWarrants - Feb 2023.csv\")\n\ncounter=0 \n\n#Iterate over each row, and check if it can be converted into a date, if not, we know it is not a valid input\nfor row in a.iterrows():\n    try:\n        d = datetime.datetime.strptime(row[1][0], \"%m/%d/%Y\")\n    \n    except ValueError:\n        print(row[1][0])\n        counter +=1 \n    \nprint(\"Total Bad Dates: \",counter)",
      "metadata": {
        "trusted": true
      },
      "execution_count": 44,
      "outputs": [
        {
          "name": "stdout",
          "text": "D220690212\nD220440673\nD220220243\n2B02451605\n0B02440200\n2B02445123\n6B02442838\n3B02416487\n6B02418226\n0B02421503\nD200232605\n1B02426208\n3B02413981\n5B02423076\n2B02409521\n5B02404008\n D200120185\n619241006\n4B02414976\n2B02419286\n3B02398280\n0B02415777\nMD\n2B02414267\n1B020414343\n3B02413036\n3B02408990\n1B02383263\n5B02409755\n6B02409616\n3B02408927\n3B02404692\n617289012\n619091012\n0B02401462\n616353002\n0B02399299\n0B02385796\n000SD66410\n5B02397099\n5B02397015\n616172002\n0B02394294\n1/31/219\n6B02357823\n3B01844608\n4B02372220\n4B02348959\nD180650842\n617020010\n1B02371076\n1/16/201\n5B02133311\nTotal Bad Dates:  53\n",
          "output_type": "stream"
        }
      ],
      "id": "ee955e06-4d98-4933-b139-0adb0db7a024"
    }
  ]
}